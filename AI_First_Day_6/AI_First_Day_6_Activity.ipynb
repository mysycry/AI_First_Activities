{
 "cells": [
  {
   "cell_type": "code",
   "execution_count": 1,
   "metadata": {
    "colab": {
     "base_uri": "https://localhost:8080/"
    },
    "id": "ja5E8Ca25rW4",
    "outputId": "e18980e4-629a-4ae2-bc95-bdf8566cecfa"
   },
   "outputs": [
    {
     "name": "stdout",
     "output_type": "stream",
     "text": [
      "Collecting git+https://github.com/openai/swarm.git\n",
      "  Cloning https://github.com/openai/swarm.git to /tmp/pip-req-build-osjfkwv1\n",
      "  Running command git clone --filter=blob:none --quiet https://github.com/openai/swarm.git /tmp/pip-req-build-osjfkwv1\n",
      "  Resolved https://github.com/openai/swarm.git to commit 9db581cecaacea0d46a933d6453c312b034dbf47\n",
      "  Installing build dependencies ... \u001b[?25l\u001b[?25hdone\n",
      "  Getting requirements to build wheel ... \u001b[?25l\u001b[?25hdone\n",
      "  Preparing metadata (pyproject.toml) ... \u001b[?25l\u001b[?25hdone\n",
      "Requirement already satisfied: numpy in /usr/local/lib/python3.10/dist-packages (from swarm==0.1.0) (1.26.4)\n",
      "Requirement already satisfied: openai>=1.33.0 in /usr/local/lib/python3.10/dist-packages (from swarm==0.1.0) (1.54.4)\n",
      "Requirement already satisfied: pytest in /usr/local/lib/python3.10/dist-packages (from swarm==0.1.0) (8.3.3)\n",
      "Requirement already satisfied: requests in /usr/local/lib/python3.10/dist-packages (from swarm==0.1.0) (2.32.3)\n",
      "Requirement already satisfied: tqdm in /usr/local/lib/python3.10/dist-packages (from swarm==0.1.0) (4.66.6)\n",
      "Requirement already satisfied: pre-commit in /usr/local/lib/python3.10/dist-packages (from swarm==0.1.0) (4.0.1)\n",
      "Requirement already satisfied: instructor in /usr/local/lib/python3.10/dist-packages (from swarm==0.1.0) (1.7.0)\n",
      "Requirement already satisfied: anyio<5,>=3.5.0 in /usr/local/lib/python3.10/dist-packages (from openai>=1.33.0->swarm==0.1.0) (3.7.1)\n",
      "Requirement already satisfied: distro<2,>=1.7.0 in /usr/local/lib/python3.10/dist-packages (from openai>=1.33.0->swarm==0.1.0) (1.9.0)\n",
      "Requirement already satisfied: httpx<1,>=0.23.0 in /usr/local/lib/python3.10/dist-packages (from openai>=1.33.0->swarm==0.1.0) (0.27.2)\n",
      "Requirement already satisfied: jiter<1,>=0.4.0 in /usr/local/lib/python3.10/dist-packages (from openai>=1.33.0->swarm==0.1.0) (0.6.1)\n",
      "Requirement already satisfied: pydantic<3,>=1.9.0 in /usr/local/lib/python3.10/dist-packages (from openai>=1.33.0->swarm==0.1.0) (2.9.2)\n",
      "Requirement already satisfied: sniffio in /usr/local/lib/python3.10/dist-packages (from openai>=1.33.0->swarm==0.1.0) (1.3.1)\n",
      "Requirement already satisfied: typing-extensions<5,>=4.11 in /usr/local/lib/python3.10/dist-packages (from openai>=1.33.0->swarm==0.1.0) (4.12.2)\n",
      "Requirement already satisfied: aiohttp<4.0.0,>=3.9.1 in /usr/local/lib/python3.10/dist-packages (from instructor->swarm==0.1.0) (3.11.2)\n",
      "Requirement already satisfied: docstring-parser<0.17,>=0.16 in /usr/local/lib/python3.10/dist-packages (from instructor->swarm==0.1.0) (0.16)\n",
      "Requirement already satisfied: jinja2<4.0.0,>=3.1.4 in /usr/local/lib/python3.10/dist-packages (from instructor->swarm==0.1.0) (3.1.4)\n",
      "Requirement already satisfied: pydantic-core<3.0.0,>=2.18.0 in /usr/local/lib/python3.10/dist-packages (from instructor->swarm==0.1.0) (2.23.4)\n",
      "Requirement already satisfied: rich<14.0.0,>=13.7.0 in /usr/local/lib/python3.10/dist-packages (from instructor->swarm==0.1.0) (13.9.4)\n",
      "Requirement already satisfied: tenacity<10.0.0,>=9.0.0 in /usr/local/lib/python3.10/dist-packages (from instructor->swarm==0.1.0) (9.0.0)\n",
      "Requirement already satisfied: typer<1.0.0,>=0.9.0 in /usr/local/lib/python3.10/dist-packages (from instructor->swarm==0.1.0) (0.13.0)\n",
      "Requirement already satisfied: charset-normalizer<4,>=2 in /usr/local/lib/python3.10/dist-packages (from requests->swarm==0.1.0) (3.4.0)\n",
      "Requirement already satisfied: idna<4,>=2.5 in /usr/local/lib/python3.10/dist-packages (from requests->swarm==0.1.0) (3.10)\n",
      "Requirement already satisfied: urllib3<3,>=1.21.1 in /usr/local/lib/python3.10/dist-packages (from requests->swarm==0.1.0) (2.2.3)\n",
      "Requirement already satisfied: certifi>=2017.4.17 in /usr/local/lib/python3.10/dist-packages (from requests->swarm==0.1.0) (2024.8.30)\n",
      "Requirement already satisfied: cfgv>=2.0.0 in /usr/local/lib/python3.10/dist-packages (from pre-commit->swarm==0.1.0) (3.4.0)\n",
      "Requirement already satisfied: identify>=1.0.0 in /usr/local/lib/python3.10/dist-packages (from pre-commit->swarm==0.1.0) (2.6.3)\n",
      "Requirement already satisfied: nodeenv>=0.11.1 in /usr/local/lib/python3.10/dist-packages (from pre-commit->swarm==0.1.0) (1.9.1)\n",
      "Requirement already satisfied: pyyaml>=5.1 in /usr/local/lib/python3.10/dist-packages (from pre-commit->swarm==0.1.0) (6.0.2)\n",
      "Requirement already satisfied: virtualenv>=20.10.0 in /usr/local/lib/python3.10/dist-packages (from pre-commit->swarm==0.1.0) (20.28.0)\n",
      "Requirement already satisfied: iniconfig in /usr/local/lib/python3.10/dist-packages (from pytest->swarm==0.1.0) (2.0.0)\n",
      "Requirement already satisfied: packaging in /usr/local/lib/python3.10/dist-packages (from pytest->swarm==0.1.0) (24.2)\n",
      "Requirement already satisfied: pluggy<2,>=1.5 in /usr/local/lib/python3.10/dist-packages (from pytest->swarm==0.1.0) (1.5.0)\n",
      "Requirement already satisfied: exceptiongroup>=1.0.0rc8 in /usr/local/lib/python3.10/dist-packages (from pytest->swarm==0.1.0) (1.2.2)\n",
      "Requirement already satisfied: tomli>=1 in /usr/local/lib/python3.10/dist-packages (from pytest->swarm==0.1.0) (2.1.0)\n",
      "Requirement already satisfied: aiohappyeyeballs>=2.3.0 in /usr/local/lib/python3.10/dist-packages (from aiohttp<4.0.0,>=3.9.1->instructor->swarm==0.1.0) (2.4.3)\n",
      "Requirement already satisfied: aiosignal>=1.1.2 in /usr/local/lib/python3.10/dist-packages (from aiohttp<4.0.0,>=3.9.1->instructor->swarm==0.1.0) (1.3.1)\n",
      "Requirement already satisfied: attrs>=17.3.0 in /usr/local/lib/python3.10/dist-packages (from aiohttp<4.0.0,>=3.9.1->instructor->swarm==0.1.0) (24.2.0)\n",
      "Requirement already satisfied: frozenlist>=1.1.1 in /usr/local/lib/python3.10/dist-packages (from aiohttp<4.0.0,>=3.9.1->instructor->swarm==0.1.0) (1.5.0)\n",
      "Requirement already satisfied: multidict<7.0,>=4.5 in /usr/local/lib/python3.10/dist-packages (from aiohttp<4.0.0,>=3.9.1->instructor->swarm==0.1.0) (6.1.0)\n",
      "Requirement already satisfied: propcache>=0.2.0 in /usr/local/lib/python3.10/dist-packages (from aiohttp<4.0.0,>=3.9.1->instructor->swarm==0.1.0) (0.2.0)\n",
      "Requirement already satisfied: yarl<2.0,>=1.17.0 in /usr/local/lib/python3.10/dist-packages (from aiohttp<4.0.0,>=3.9.1->instructor->swarm==0.1.0) (1.17.2)\n",
      "Requirement already satisfied: async-timeout<6.0,>=4.0 in /usr/local/lib/python3.10/dist-packages (from aiohttp<4.0.0,>=3.9.1->instructor->swarm==0.1.0) (4.0.3)\n",
      "Requirement already satisfied: httpcore==1.* in /usr/local/lib/python3.10/dist-packages (from httpx<1,>=0.23.0->openai>=1.33.0->swarm==0.1.0) (1.0.7)\n",
      "Requirement already satisfied: h11<0.15,>=0.13 in /usr/local/lib/python3.10/dist-packages (from httpcore==1.*->httpx<1,>=0.23.0->openai>=1.33.0->swarm==0.1.0) (0.14.0)\n",
      "Requirement already satisfied: MarkupSafe>=2.0 in /usr/local/lib/python3.10/dist-packages (from jinja2<4.0.0,>=3.1.4->instructor->swarm==0.1.0) (3.0.2)\n",
      "Requirement already satisfied: annotated-types>=0.6.0 in /usr/local/lib/python3.10/dist-packages (from pydantic<3,>=1.9.0->openai>=1.33.0->swarm==0.1.0) (0.7.0)\n",
      "Requirement already satisfied: markdown-it-py>=2.2.0 in /usr/local/lib/python3.10/dist-packages (from rich<14.0.0,>=13.7.0->instructor->swarm==0.1.0) (3.0.0)\n",
      "Requirement already satisfied: pygments<3.0.0,>=2.13.0 in /usr/local/lib/python3.10/dist-packages (from rich<14.0.0,>=13.7.0->instructor->swarm==0.1.0) (2.18.0)\n",
      "Requirement already satisfied: click>=8.0.0 in /usr/local/lib/python3.10/dist-packages (from typer<1.0.0,>=0.9.0->instructor->swarm==0.1.0) (8.1.7)\n",
      "Requirement already satisfied: shellingham>=1.3.0 in /usr/local/lib/python3.10/dist-packages (from typer<1.0.0,>=0.9.0->instructor->swarm==0.1.0) (1.5.4)\n",
      "Requirement already satisfied: distlib<1,>=0.3.7 in /usr/local/lib/python3.10/dist-packages (from virtualenv>=20.10.0->pre-commit->swarm==0.1.0) (0.3.9)\n",
      "Requirement already satisfied: filelock<4,>=3.12.2 in /usr/local/lib/python3.10/dist-packages (from virtualenv>=20.10.0->pre-commit->swarm==0.1.0) (3.16.1)\n",
      "Requirement already satisfied: platformdirs<5,>=3.9.1 in /usr/local/lib/python3.10/dist-packages (from virtualenv>=20.10.0->pre-commit->swarm==0.1.0) (4.3.6)\n",
      "Requirement already satisfied: mdurl~=0.1 in /usr/local/lib/python3.10/dist-packages (from markdown-it-py>=2.2.0->rich<14.0.0,>=13.7.0->instructor->swarm==0.1.0) (0.1.2)\n",
      "Requirement already satisfied: openai in /usr/local/lib/python3.10/dist-packages (1.54.4)\n",
      "Requirement already satisfied: anyio<5,>=3.5.0 in /usr/local/lib/python3.10/dist-packages (from openai) (3.7.1)\n",
      "Requirement already satisfied: distro<2,>=1.7.0 in /usr/local/lib/python3.10/dist-packages (from openai) (1.9.0)\n",
      "Requirement already satisfied: httpx<1,>=0.23.0 in /usr/local/lib/python3.10/dist-packages (from openai) (0.27.2)\n",
      "Requirement already satisfied: jiter<1,>=0.4.0 in /usr/local/lib/python3.10/dist-packages (from openai) (0.6.1)\n",
      "Requirement already satisfied: pydantic<3,>=1.9.0 in /usr/local/lib/python3.10/dist-packages (from openai) (2.9.2)\n",
      "Requirement already satisfied: sniffio in /usr/local/lib/python3.10/dist-packages (from openai) (1.3.1)\n",
      "Requirement already satisfied: tqdm>4 in /usr/local/lib/python3.10/dist-packages (from openai) (4.66.6)\n",
      "Requirement already satisfied: typing-extensions<5,>=4.11 in /usr/local/lib/python3.10/dist-packages (from openai) (4.12.2)\n",
      "Requirement already satisfied: idna>=2.8 in /usr/local/lib/python3.10/dist-packages (from anyio<5,>=3.5.0->openai) (3.10)\n",
      "Requirement already satisfied: exceptiongroup in /usr/local/lib/python3.10/dist-packages (from anyio<5,>=3.5.0->openai) (1.2.2)\n",
      "Requirement already satisfied: certifi in /usr/local/lib/python3.10/dist-packages (from httpx<1,>=0.23.0->openai) (2024.8.30)\n",
      "Requirement already satisfied: httpcore==1.* in /usr/local/lib/python3.10/dist-packages (from httpx<1,>=0.23.0->openai) (1.0.7)\n",
      "Requirement already satisfied: h11<0.15,>=0.13 in /usr/local/lib/python3.10/dist-packages (from httpcore==1.*->httpx<1,>=0.23.0->openai) (0.14.0)\n",
      "Requirement already satisfied: annotated-types>=0.6.0 in /usr/local/lib/python3.10/dist-packages (from pydantic<3,>=1.9.0->openai) (0.7.0)\n",
      "Requirement already satisfied: pydantic-core==2.23.4 in /usr/local/lib/python3.10/dist-packages (from pydantic<3,>=1.9.0->openai) (2.23.4)\n",
      "Requirement already satisfied: firecrawl-py in /usr/local/lib/python3.10/dist-packages (1.6.3)\n",
      "Requirement already satisfied: requests in /usr/local/lib/python3.10/dist-packages (from firecrawl-py) (2.32.3)\n",
      "Requirement already satisfied: python-dotenv in /usr/local/lib/python3.10/dist-packages (from firecrawl-py) (1.0.1)\n",
      "Requirement already satisfied: websockets in /usr/local/lib/python3.10/dist-packages (from firecrawl-py) (14.1)\n",
      "Requirement already satisfied: nest-asyncio in /usr/local/lib/python3.10/dist-packages (from firecrawl-py) (1.6.0)\n",
      "Requirement already satisfied: charset-normalizer<4,>=2 in /usr/local/lib/python3.10/dist-packages (from requests->firecrawl-py) (3.4.0)\n",
      "Requirement already satisfied: idna<4,>=2.5 in /usr/local/lib/python3.10/dist-packages (from requests->firecrawl-py) (3.10)\n",
      "Requirement already satisfied: urllib3<3,>=1.21.1 in /usr/local/lib/python3.10/dist-packages (from requests->firecrawl-py) (2.2.3)\n",
      "Requirement already satisfied: certifi>=2017.4.17 in /usr/local/lib/python3.10/dist-packages (from requests->firecrawl-py) (2024.8.30)\n",
      "Requirement already satisfied: fireducks in /usr/local/lib/python3.10/dist-packages (1.1.2)\n",
      "Requirement already satisfied: firefw==1.1.2 in /usr/local/lib/python3.10/dist-packages (from fireducks) (1.1.2)\n",
      "Requirement already satisfied: pandas<2.3.0,>=1.5.3 in /usr/local/lib/python3.10/dist-packages (from fireducks) (2.2.2)\n",
      "Requirement already satisfied: pyarrow<18.1,>=18.0 in /usr/local/lib/python3.10/dist-packages (from fireducks) (18.0.0)\n",
      "Requirement already satisfied: numpy>=1.22.4 in /usr/local/lib/python3.10/dist-packages (from pandas<2.3.0,>=1.5.3->fireducks) (1.26.4)\n",
      "Requirement already satisfied: python-dateutil>=2.8.2 in /usr/local/lib/python3.10/dist-packages (from pandas<2.3.0,>=1.5.3->fireducks) (2.8.2)\n",
      "Requirement already satisfied: pytz>=2020.1 in /usr/local/lib/python3.10/dist-packages (from pandas<2.3.0,>=1.5.3->fireducks) (2024.2)\n",
      "Requirement already satisfied: tzdata>=2022.7 in /usr/local/lib/python3.10/dist-packages (from pandas<2.3.0,>=1.5.3->fireducks) (2024.2)\n",
      "Requirement already satisfied: six>=1.5 in /usr/local/lib/python3.10/dist-packages (from python-dateutil>=2.8.2->pandas<2.3.0,>=1.5.3->fireducks) (1.16.0)\n"
     ]
    }
   ],
   "source": [
    "!pip install git+https://github.com/openai/swarm.git\n",
    "!pip install openai\n",
    "!pip install firecrawl-py\n",
    "!pip install fireducks"
   ]
  },
  {
   "cell_type": "code",
   "execution_count": 2,
   "metadata": {
    "colab": {
     "base_uri": "https://localhost:8080/"
    },
    "id": "Sc-FtKW16IiI",
    "outputId": "bf99c59c-0941-4273-9811-4a3964d3efcf"
   },
   "outputs": [
    {
     "name": "stderr",
     "output_type": "stream",
     "text": [
      "/usr/local/lib/python3.10/dist-packages/pydantic/_internal/_fields.py:172: UserWarning: Field name \"schema\" in \"FirecrawlApp.ExtractParams\" shadows an attribute in parent \"BaseModel\"\n",
      "  warnings.warn(\n"
     ]
    }
   ],
   "source": [
    "import os\n",
    "from firecrawl import FirecrawlApp\n",
    "from swarm import Agent, Swarm\n",
    "from openai import OpenAI\n",
    "import fireducks.pandas as pd\n",
    "import numpy as np"
   ]
  },
  {
   "cell_type": "code",
   "execution_count": null,
   "metadata": {
    "id": "6t3MPsCdDCeg"
   },
   "outputs": [],
   "source": [
    "api = OpenAI(api_key=\"\")"
   ]
  },
  {
   "cell_type": "code",
   "execution_count": 4,
   "metadata": {
    "id": "dq_1xc-I6Inr"
   },
   "outputs": [],
   "source": [
    "client = Swarm(api)"
   ]
  },
  {
   "cell_type": "code",
   "execution_count": 5,
   "metadata": {
    "id": "MhMUmS8K6IqK"
   },
   "outputs": [],
   "source": [
    "data = pd.read_csv('https://raw.githubusercontent.com/mysycry/AI_First_Activities/refs/heads/main/AI_First_Day_6/ai%20first%20sales%20data%20-%20sales.csv')"
   ]
  },
  {
   "cell_type": "code",
   "execution_count": 6,
   "metadata": {
    "colab": {
     "base_uri": "https://localhost:8080/"
    },
    "id": "o7A8aNU46Isy",
    "outputId": "496708fd-f912-42e3-c3cb-4b15c6bf2b85"
   },
   "outputs": [
    {
     "name": "stdout",
     "output_type": "stream",
     "text": [
      "        date    source   medium delivery_available device_type  \\\n",
      "0 2020-05-11    google  organic            no data          PC   \n",
      "1 2020-05-11  facebook      cpc            no data      mobile   \n",
      "2 2020-05-11    google      cpc            no data      mobile   \n",
      "\n",
      "  promo_activated filter_used  pageviews  visits  productClick  addToCart  \\\n",
      "0              no          no       4087    1233          5240       1048   \n",
      "1             yes          no       4326     544          9930       1984   \n",
      "2              no          no       3891    1450          5460       1090   \n",
      "\n",
      "   checkout  transactions    revenue  ad spend  \n",
      "0    672.00            90   456877.0  384039.0  \n",
      "1   1812.48           217  1289066.0  817514.0  \n",
      "2    766.72           100   554427.0  435105.0  \n"
     ]
    }
   ],
   "source": [
    "# Dataset as provided\n",
    "data = {\n",
    "    \"date\": [\"2020-05-11\", \"2020-05-11\", \"2020-05-11\"],\n",
    "    \"source\": [\"google\", \"facebook\", \"google\"],\n",
    "    \"medium\": [\"organic\", \"cpc\", \"cpc\"],\n",
    "    \"delivery_available\": [\"no data\", \"no data\", \"no data\"],\n",
    "    \"device_type\": [\"PC\", \"mobile\", \"mobile\"],\n",
    "    \"promo_activated\": [\"no\", \"yes\", \"no\"],\n",
    "    \"filter_used\": [\"no\", \"no\", \"no\"],\n",
    "    \"pageviews\": [4087, 4326, 3891],\n",
    "    \"visits\": [1233, 544, 1450],\n",
    "    \"productClick\": [5240, 9930, 5460],\n",
    "    \"addToCart\": [1048, 1984, 1090],\n",
    "    \"checkout\": [672, 1812.48, 766.72],\n",
    "    \"transactions\": [90, 217, 100],\n",
    "    \"revenue\": [\"₱456,877\", \"₱1,289,066\", \"₱554,427\"],\n",
    "    \"ad spend\": [\"₱384,039\", \"₱817,514\", \"₱435,105\"]\n",
    "}\n",
    "\n",
    "# Convert to DataFrame\n",
    "df = pd.DataFrame(data)\n",
    "\n",
    "# Remove currency symbols and commas, and convert to numeric\n",
    "df['revenue'] = df['revenue'].replace({'₱': '', ',': ''}, regex=True).astype(float)\n",
    "df['ad spend'] = df['ad spend'].replace({'₱': '', ',': ''}, regex=True).astype(float)\n",
    "\n",
    "# Convert columns to appropriate datatypes\n",
    "df['date'] = pd.to_datetime(df['date'])\n",
    "df['pageviews'] = df['pageviews'].astype(int)\n",
    "df['visits'] = df['visits'].astype(int)\n",
    "df['productClick'] = df['productClick'].astype(int)\n",
    "df['addToCart'] = df['addToCart'].astype(int)\n",
    "df['checkout'] = df['checkout'].astype(float)\n",
    "df['transactions'] = df['transactions'].astype(int)\n",
    "\n",
    "# Remove any rows with missing data\n",
    "df = df.dropna()\n",
    "\n",
    "# Display cleaned data\n",
    "print(df.head())\n"
   ]
  },
  {
   "cell_type": "markdown",
   "metadata": {
    "id": "xK5GrUtF6pnL"
   },
   "source": [
    "# *DEFINE AGENT FUNCTIONS*\n"
   ]
  },
  {
   "cell_type": "code",
   "execution_count": 8,
   "metadata": {
    "id": "Iuv8pd3R6IvU"
   },
   "outputs": [],
   "source": [
    "def detect_anomalies():\n",
    "    # Check for missing data\n",
    "    missing_data = df.isnull().sum()\n",
    "\n",
    "    # Identify any obvious anomalies in numeric columns (outliers, etc.)\n",
    "    anomalies = {\n",
    "        \"missing_data\": missing_data,\n",
    "        \"outliers\": df.describe()  # Detect outliers using basic statistics\n",
    "    }\n",
    "\n",
    "    return anomalies\n",
    "\n",
    "\n",
    "def analyze_marketing_performance():\n",
    "    # Calculate conversion rates\n",
    "    df['conversion_rate'] = df['transactions'] / df['visits']\n",
    "\n",
    "    # Calculate cost per transaction and revenue per spend\n",
    "    df['cost_per_transaction'] = df['ad spend'] / (df['transactions'] + 1)\n",
    "    df['revenue_per_spend'] = df['revenue'] / (df['ad spend'] + 1)\n",
    "\n",
    "    # Aggregate data by source for overall performance analysis\n",
    "    grouped = df.groupby('source').agg({\n",
    "        'ad spend': 'sum',\n",
    "        'transactions': 'sum',\n",
    "        'revenue': 'sum',\n",
    "        'conversion_rate': 'mean',\n",
    "        'cost_per_transaction': 'mean',\n",
    "        'revenue_per_spend': 'mean'\n",
    "    })\n",
    "\n",
    "    return grouped.sort_values('revenue_per_spend', ascending=False)\n",
    "\n",
    "\n",
    "def analyze_customer_journey():\n",
    "    # Calculate drop-offs at each stage in the customer journey\n",
    "    df['click_to_cart'] = df['addToCart'] / df['productClick']\n",
    "    df['cart_to_checkout'] = df['checkout'] / df['addToCart']\n",
    "    df['checkout_to_transaction'] = df['transactions'] / df['checkout']\n",
    "\n",
    "    # Summarize by source for the customer journey\n",
    "    journey_stats = df.groupby('source').agg({\n",
    "        'click_to_cart': 'mean',\n",
    "        'cart_to_checkout': 'mean',\n",
    "        'checkout_to_transaction': 'mean'\n",
    "    })\n",
    "\n",
    "    return journey_stats\n",
    "\n",
    "\n",
    "def analyze_revenue_intelligence():\n",
    "    # Revenue per visit and per pageview\n",
    "    df['revenue_per_visit'] = df['revenue'] / df['visits']\n",
    "    df['revenue_per_pageview'] = df['revenue'] / df['pageviews']\n",
    "\n",
    "    # Identify top sources by revenue and revenue per spend\n",
    "    grouped = df.groupby('source').agg({\n",
    "        'revenue': 'sum',\n",
    "        'revenue_per_visit': 'mean',\n",
    "        'revenue_per_pageview': 'mean'\n",
    "    })\n",
    "\n",
    "    return grouped.sort_values('revenue', ascending=False)"
   ]
  },
  {
   "cell_type": "markdown",
   "metadata": {
    "id": "6g5hWuNh62Na"
   },
   "source": [
    "*AGENTS*"
   ]
  },
  {
   "cell_type": "code",
   "execution_count": 9,
   "metadata": {
    "id": "dvRoG2Lq6Ix9"
   },
   "outputs": [],
   "source": [
    "data_detective_agent = Agent(\n",
    "    name=\"Data Detective Agent\",\n",
    "    model=\"gpt-4o-mini\",\n",
    "    instructions=\"You are a data detective agent specialized in identifying anomalies, missing data, and issues within datasets.\",\n",
    "    functions=[detect_anomalies]\n",
    ")\n"
   ]
  },
  {
   "cell_type": "code",
   "execution_count": 10,
   "metadata": {
    "id": "zEHMsh7zKIP9"
   },
   "outputs": [],
   "source": [
    "marketing_performance_agent = Agent(\n",
    "    name=\"Marketing Performance Agent\",\n",
    "    model=\"gpt-4o-mini\",\n",
    "    instructions=\"You are a marketing performance agent specialized in analyzing key marketing metrics such as conversion rates, cost per transaction, and revenue per spend.\",\n",
    "    functions=[analyze_marketing_performance]\n",
    ")"
   ]
  },
  {
   "cell_type": "code",
   "execution_count": 11,
   "metadata": {
    "id": "REw5CYl6KIVm"
   },
   "outputs": [],
   "source": [
    "customer_journey_agent = Agent(\n",
    "    name=\"Customer Journey Agent\",\n",
    "    model=\"gpt-4o-mini\",\n",
    "    instructions=\"You are a customer journey agent, analyzing how customers interact with the website, from pageviews to product clicks, adds to cart, and transactions.\",\n",
    "    functions=[analyze_customer_journey]\n",
    ")\n"
   ]
  },
  {
   "cell_type": "code",
   "execution_count": 12,
   "metadata": {
    "id": "QLLBG-MGKIhK"
   },
   "outputs": [],
   "source": [
    "revenue_intelligence_agent = Agent(\n",
    "    name=\"Revenue Intelligence Agent\",\n",
    "    model=\"gpt-4o-mini\",\n",
    "    instructions=\"You are a revenue intelligence agent, specialized in analyzing revenue generation and identifying high-performing marketing sources.\",\n",
    "    functions=[analyze_revenue_intelligence]\n",
    ")\n",
    "\n",
    "\n"
   ]
  },
  {
   "cell_type": "markdown",
   "metadata": {
    "id": "gq4Ayezm8zih"
   },
   "source": [
    "*OUTPUT*"
   ]
  },
  {
   "cell_type": "code",
   "execution_count": 13,
   "metadata": {
    "colab": {
     "base_uri": "https://localhost:8080/"
    },
    "id": "7kAgULbNJxiT",
    "outputId": "da6cf676-276f-49d7-c86e-60f85f6916c2"
   },
   "outputs": [
    {
     "name": "stdout",
     "output_type": "stream",
     "text": [
      "\n",
      "Data Detective Agent Results:\n",
      "The analysis of the dataset reveals the following data issues and anomalies:\n",
      "\n",
      "### Missing Data\n",
      "There are no missing values in the dataset across all columns:\n",
      "- date: 0 missing\n",
      "- source: 0 missing\n",
      "- medium: 0 missing\n",
      "- delivery_available: 0 missing\n",
      "- device_type: 0 missing\n",
      "- promo_activated: 0 missing\n",
      "- filter_used: 0 missing\n",
      "- pageviews: 0 missing\n",
      "- visits: 0 missing\n",
      "- productClick: 0 missing\n",
      "- addToCart: 0 missing\n",
      "- checkout: 0 missing\n",
      "- transactions: 0 missing\n",
      "- revenue: 0 missing\n",
      "- ad spend: 0 missing\n",
      "\n",
      "### Outliers\n",
      "There are possible outliers within the dataset as indicated by standard deviation and mean calculations for various metrics. Here are the details for some of the columns:\n",
      "\n",
      "1. **Pageviews**\n",
      "   - Mean: 4101.33\n",
      "   - Standard Deviation: 217.85\n",
      "   - Range: Min 3891 - Max 4326\n",
      "\n",
      "2. **Visits**\n",
      "   - Mean: 1075.67\n",
      "   - Standard Deviation: 473.05\n",
      "   - Range: Min 544 - Max 1450\n",
      "\n",
      "3. **Product Clicks**\n",
      "   - Mean: 6876.67\n",
      "   - Standard Deviation: 2646.55\n",
      "   - Range: Min 5240 - Max 9930\n",
      "\n",
      "4. **Add to Cart**\n",
      "   - Mean: 1374.00\n",
      "   - Standard Deviation: 528.69\n",
      "   - Range: Min 1048 - Max 1984\n",
      "\n",
      "5. **Checkout**\n",
      "   - Mean: 1083.73\n",
      "   - Standard Deviation: 632.89\n",
      "   - Range: Min 672 - Max 1812\n",
      "\n",
      "6. **Transactions**\n",
      "   - Mean: 135.67\n",
      "   - Standard Deviation: 70.61\n",
      "   - Range: Min 90 - Max 217\n",
      "\n",
      "7. **Revenue**\n",
      "   - Mean: 766790.00\n",
      "   - Standard Deviation: 454926.50\n",
      "   - Range: Min 456877.00 - Max 1289066.00\n",
      "\n",
      "8. **Ad Spend**\n",
      "   - Mean: 545552.67\n",
      "   - Standard Deviation: 236905.38\n",
      "   - Range: Min 384039.00 - Max 817514.00\n",
      "\n",
      "### Summary\n",
      "- There are no missing data entries in the dataset.\n",
      "- Anomalies in the form of outliers have been detected in several key performance indicators (KPIs) such as pageviews, visits, product clicks, add to cart, checkout, transactions, revenue, and ad spend.\n",
      "\n",
      "It may be advisable to conduct further investigations into the outlier values to determine their validity and impact on any analyses or models.\n"
     ]
    }
   ],
   "source": [
    "# Run the Data Detective Agent\n",
    "data_detective_response = client.run(\n",
    "    agent=data_detective_agent,\n",
    "    messages=[{\"role\": \"user\", \"content\": \"Identify any data issues or anomalies.\"}]\n",
    ")\n",
    "print(\"\\nData Detective Agent Results:\")\n",
    "print(data_detective_response.messages[-1][\"content\"])"
   ]
  },
  {
   "cell_type": "code",
   "execution_count": 14,
   "metadata": {
    "colab": {
     "base_uri": "https://localhost:8080/"
    },
    "id": "Bhmqj858Kpus",
    "outputId": "e94aeb68-7f3f-464b-d9b7-b890c2eceb91"
   },
   "outputs": [
    {
     "name": "stdout",
     "output_type": "stream",
     "text": [
      "\n",
      "Marketing Performance Agent Results:\n",
      "Here's the analysis of the marketing performance and key metrics for the two platforms:\n",
      "\n",
      "### Facebook\n",
      "- **Ad Spend**: $817,514\n",
      "- **Transactions**: 217\n",
      "- **Revenue**: $1,289,066\n",
      "- **Conversion Rate**: 39.89%\n",
      "- **Cost per Transaction**: $3,750.06\n",
      "- **Revenue per Spend**: $1.58\n",
      "\n",
      "### Google\n",
      "- **Ad Spend**: $819,144\n",
      "- **Transactions**: 190\n",
      "- **Revenue**: $1,011,304\n",
      "- **Conversion Rate**: 7.10%\n",
      "- **Cost per Transaction**: $4,264.09\n",
      "- **Revenue per Spend**: $1.23\n",
      "\n",
      "### Summary\n",
      "- **Facebook** has a significantly higher conversion rate and lower cost per transaction compared to Google, making it a more effective platform for this period.\n",
      "- While both platforms have similar ad spending, Facebook generated more revenue and transactions, yielding a better revenue per spend ratio.\n"
     ]
    }
   ],
   "source": [
    "# Run the Marketing Performance Agent\n",
    "marketing_performance_response = client.run(\n",
    "    agent=marketing_performance_agent,\n",
    "    messages=[{\"role\": \"user\", \"content\": \"Analyze the marketing performance and key metrics.\"}]\n",
    ")\n",
    "print(\"\\nMarketing Performance Agent Results:\")\n",
    "print(marketing_performance_response.messages[-1][\"content\"])\n",
    "\n"
   ]
  },
  {
   "cell_type": "code",
   "execution_count": 15,
   "metadata": {
    "colab": {
     "base_uri": "https://localhost:8080/"
    },
    "id": "gMKTGl0eKqGx",
    "outputId": "3891baab-6fc8-4f72-8b29-f1bee9e292a8"
   },
   "outputs": [
    {
     "name": "stdout",
     "output_type": "stream",
     "text": [
      "\n",
      "Customer Journey Agent Results:\n",
      "The analysis of the customer journey reveals the following conversion rates and drop-off points:\n",
      "\n",
      "1. **Click to Cart**:\n",
      "   - **Facebook**: 19.98%\n",
      "   - **Google**: 19.98%\n",
      "\n",
      "2. **Cart to Checkout**:\n",
      "   - **Facebook**: 91.35%\n",
      "   - **Google**: 67.23%\n",
      "\n",
      "3. **Checkout to Transaction**:\n",
      "   - **Facebook**: 11.97%\n",
      "   - **Google**: 13.22%\n",
      "\n",
      "### Drop-off Points:\n",
      "- The most significant drop-off occurs from **Checkout to Transaction**:\n",
      "  - Only about **12%** of customers from Facebook and **13%** from Google complete the purchase after reaching the checkout phase.\n",
      "  \n",
      "- While the transition from **Cart to Checkout** is high for Facebook users (91.35%), it drops significantly at the final checkout step.\n",
      "\n",
      "### Summary:\n",
      "- The customer journey shows that while users are interested and go as far as adding products to their carts, a considerable number do not complete the transaction, especially after reaching the checkout stage. \n",
      "- Improving the checkout experience and addressing potential issues causing frustration or abandonment could help in increasing transaction rates.\n"
     ]
    }
   ],
   "source": [
    "# Run the Customer Journey Agent\n",
    "customer_journey_response = client.run(\n",
    "    agent=customer_journey_agent,\n",
    "    messages=[{\"role\": \"user\", \"content\": \"Analyze the customer journey and drop-off points.\"}]\n",
    ")\n",
    "print(\"\\nCustomer Journey Agent Results:\")\n",
    "print(customer_journey_response.messages[-1][\"content\"])\n",
    "\n"
   ]
  },
  {
   "cell_type": "code",
   "execution_count": 16,
   "metadata": {
    "colab": {
     "base_uri": "https://localhost:8080/"
    },
    "id": "nFNkToc8KqQk",
    "outputId": "c0371572-f5e9-47a9-98f4-d79980edda5d"
   },
   "outputs": [
    {
     "name": "stdout",
     "output_type": "stream",
     "text": [
      "\n",
      "Revenue Intelligence Agent Results:\n",
      "Here's the analysis of revenue generation by traffic source:\n",
      "\n",
      "1. **Facebook**:\n",
      "   - Total Revenue: $1,289,066\n",
      "   - Revenue per Visit: $2,369.61\n",
      "   - Revenue per Pageview: $297.98\n",
      "\n",
      "2. **Google**:\n",
      "   - Total Revenue: $1,011,304\n",
      "   - Revenue per Visit: $376.45\n",
      "   - Revenue per Pageview: $127.14\n",
      "\n",
      "**Insights**:\n",
      "- Facebook is generating more total revenue and has a significantly higher revenue per visit compared to Google. This suggests that traffic from Facebook is more valuable in terms of conversion.\n",
      "- Google, while still a strong source of revenue, has lower metrics in comparison, indicating potential areas for optimization. \n",
      "\n",
      "Would you like to explore further or analyze any specific aspect in detail?\n"
     ]
    }
   ],
   "source": [
    "# Run the Revenue Intelligence Agent\n",
    "revenue_intelligence_response = client.run(\n",
    "    agent=revenue_intelligence_agent,\n",
    "    messages=[{\"role\": \"user\", \"content\": \"Analyze revenue generation by traffic source.\"}]\n",
    ")\n",
    "print(\"\\nRevenue Intelligence Agent Results:\")\n",
    "print(revenue_intelligence_response.messages[-1][\"content\"])"
   ]
  }
 ],
 "metadata": {
  "colab": {
   "provenance": []
  },
  "kernelspec": {
   "display_name": "Python 3",
   "name": "python3"
  },
  "language_info": {
   "name": "python"
  }
 },
 "nbformat": 4,
 "nbformat_minor": 0
}

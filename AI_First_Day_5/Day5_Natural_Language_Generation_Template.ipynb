{
  "cells": [
    {
      "cell_type": "code",
      "source": [
        "!pip install openai==0.28.1\n",
        "!pip install fpdf==1.7.2"
      ],
      "metadata": {
        "colab": {
          "base_uri": "https://localhost:8080/"
        },
        "id": "lataKYH3l-T1",
        "outputId": "765de8a3-fdec-4149-e8ac-b71af789e25d"
      },
      "id": "lataKYH3l-T1",
      "execution_count": null,
      "outputs": [
        {
          "output_type": "stream",
          "name": "stdout",
          "text": [
            "Collecting openai==0.28.1\n",
            "  Downloading openai-0.28.1-py3-none-any.whl.metadata (11 kB)\n",
            "Requirement already satisfied: requests>=2.20 in /usr/local/lib/python3.10/dist-packages (from openai==0.28.1) (2.32.3)\n",
            "Requirement already satisfied: tqdm in /usr/local/lib/python3.10/dist-packages (from openai==0.28.1) (4.66.6)\n",
            "Requirement already satisfied: aiohttp in /usr/local/lib/python3.10/dist-packages (from openai==0.28.1) (3.10.10)\n",
            "Requirement already satisfied: charset-normalizer<4,>=2 in /usr/local/lib/python3.10/dist-packages (from requests>=2.20->openai==0.28.1) (3.4.0)\n",
            "Requirement already satisfied: idna<4,>=2.5 in /usr/local/lib/python3.10/dist-packages (from requests>=2.20->openai==0.28.1) (3.10)\n",
            "Requirement already satisfied: urllib3<3,>=1.21.1 in /usr/local/lib/python3.10/dist-packages (from requests>=2.20->openai==0.28.1) (2.2.3)\n",
            "Requirement already satisfied: certifi>=2017.4.17 in /usr/local/lib/python3.10/dist-packages (from requests>=2.20->openai==0.28.1) (2024.8.30)\n",
            "Requirement already satisfied: aiohappyeyeballs>=2.3.0 in /usr/local/lib/python3.10/dist-packages (from aiohttp->openai==0.28.1) (2.4.3)\n",
            "Requirement already satisfied: aiosignal>=1.1.2 in /usr/local/lib/python3.10/dist-packages (from aiohttp->openai==0.28.1) (1.3.1)\n",
            "Requirement already satisfied: attrs>=17.3.0 in /usr/local/lib/python3.10/dist-packages (from aiohttp->openai==0.28.1) (24.2.0)\n",
            "Requirement already satisfied: frozenlist>=1.1.1 in /usr/local/lib/python3.10/dist-packages (from aiohttp->openai==0.28.1) (1.5.0)\n",
            "Requirement already satisfied: multidict<7.0,>=4.5 in /usr/local/lib/python3.10/dist-packages (from aiohttp->openai==0.28.1) (6.1.0)\n",
            "Requirement already satisfied: yarl<2.0,>=1.12.0 in /usr/local/lib/python3.10/dist-packages (from aiohttp->openai==0.28.1) (1.17.1)\n",
            "Requirement already satisfied: async-timeout<5.0,>=4.0 in /usr/local/lib/python3.10/dist-packages (from aiohttp->openai==0.28.1) (4.0.3)\n",
            "Requirement already satisfied: typing-extensions>=4.1.0 in /usr/local/lib/python3.10/dist-packages (from multidict<7.0,>=4.5->aiohttp->openai==0.28.1) (4.12.2)\n",
            "Requirement already satisfied: propcache>=0.2.0 in /usr/local/lib/python3.10/dist-packages (from yarl<2.0,>=1.12.0->aiohttp->openai==0.28.1) (0.2.0)\n",
            "Downloading openai-0.28.1-py3-none-any.whl (76 kB)\n",
            "\u001b[?25l   \u001b[90m━━━━━━━━━━━━━━━━━━━━━━━━━━━━━━━━━━━━━━━━\u001b[0m \u001b[32m0.0/77.0 kB\u001b[0m \u001b[31m?\u001b[0m eta \u001b[36m-:--:--\u001b[0m\r\u001b[2K   \u001b[91m━━━━━━━━━━━━━━━━━━━━━━━━━━━━━━━━━━━━━\u001b[0m\u001b[90m╺\u001b[0m\u001b[90m━━\u001b[0m \u001b[32m71.7/77.0 kB\u001b[0m \u001b[31m2.9 MB/s\u001b[0m eta \u001b[36m0:00:01\u001b[0m\r\u001b[2K   \u001b[90m━━━━━━━━━━━━━━━━━━━━━━━━━━━━━━━━━━━━━━━━\u001b[0m \u001b[32m77.0/77.0 kB\u001b[0m \u001b[31m1.8 MB/s\u001b[0m eta \u001b[36m0:00:00\u001b[0m\n",
            "\u001b[?25hInstalling collected packages: openai\n",
            "  Attempting uninstall: openai\n",
            "    Found existing installation: openai 1.54.4\n",
            "    Uninstalling openai-1.54.4:\n",
            "      Successfully uninstalled openai-1.54.4\n",
            "Successfully installed openai-0.28.1\n",
            "Collecting fpdf==1.7.2\n",
            "  Downloading fpdf-1.7.2.tar.gz (39 kB)\n",
            "  Preparing metadata (setup.py) ... \u001b[?25l\u001b[?25hdone\n",
            "Building wheels for collected packages: fpdf\n",
            "  Building wheel for fpdf (setup.py) ... \u001b[?25l\u001b[?25hdone\n",
            "  Created wheel for fpdf: filename=fpdf-1.7.2-py2.py3-none-any.whl size=40704 sha256=fae0f8e407f11551768e0e78f08a3fa1a01737abd9dad5e9bfa846d881d18b1b\n",
            "  Stored in directory: /root/.cache/pip/wheels/f9/95/ba/f418094659025eb9611f17cbcaf2334236bf39a0c3453ea455\n",
            "Successfully built fpdf\n",
            "Installing collected packages: fpdf\n",
            "Successfully installed fpdf-1.7.2\n"
          ]
        }
      ]
    },
    {
      "cell_type": "code",
      "execution_count": null,
      "id": "48ef5895-994b-4287-be64-6bfc2d5cea03",
      "metadata": {
        "id": "48ef5895-994b-4287-be64-6bfc2d5cea03"
      },
      "outputs": [],
      "source": [
        "import pandas as pd\n",
        "import openai\n",
        "import time\n",
        "from fpdf import FPDF\n",
        "\n",
        "openai.api_key = ''"
      ]
    },
    {
      "cell_type": "markdown",
      "source": [
        "## Load the dataset"
      ],
      "metadata": {
        "id": "71nyWCPo9mui"
      },
      "id": "71nyWCPo9mui"
    },
    {
      "cell_type": "code",
      "source": [
        "df = pd.read_csv('')"
      ],
      "metadata": {
        "id": "iNEtAbnJma2J"
      },
      "id": "iNEtAbnJma2J",
      "execution_count": null,
      "outputs": []
    },
    {
      "cell_type": "code",
      "source": [
        "df.sample(5)"
      ],
      "metadata": {
        "colab": {
          "base_uri": "https://localhost:8080/",
          "height": 206
        },
        "id": "Ye6HoobRmc2k",
        "outputId": "b8134c96-a882-4048-f544-eca991de0c05"
      },
      "id": "Ye6HoobRmc2k",
      "execution_count": null,
      "outputs": [
        {
          "output_type": "execute_result",
          "data": {
            "text/plain": [
              "   Freight ID        Origin Destination          Carrier  Freight Rate (USD)  \\\n",
              "20       F021  Philadelphia       Miami  Quick Logistics                 920   \n",
              "6        F007        Boston   Nashville      GoLogistics                 800   \n",
              "29       F030      New York    San Jose  Quick Logistics                1000   \n",
              "1        F002         Miami     Chicago      Speedy Ship                 700   \n",
              "10       F011        Dallas       Miami      Speedy Ship                 890   \n",
              "\n",
              "   Departure Time  Transit Time (Hours)  Available Seats  Freight Type  \n",
              "20          07:30                    38                5  Refrigerated  \n",
              "6           11:10                    24                9      Standard  \n",
              "29          09:00                    50                3      Standard  \n",
              "1           09:30                    36                8      Standard  \n",
              "10          07:00                    40                6  Refrigerated  "
            ],
            "text/html": [
              "\n",
              "  <div id=\"df-d2a95104-e4ef-4167-843e-e463716c3708\" class=\"colab-df-container\">\n",
              "    <div>\n",
              "<style scoped>\n",
              "    .dataframe tbody tr th:only-of-type {\n",
              "        vertical-align: middle;\n",
              "    }\n",
              "\n",
              "    .dataframe tbody tr th {\n",
              "        vertical-align: top;\n",
              "    }\n",
              "\n",
              "    .dataframe thead th {\n",
              "        text-align: right;\n",
              "    }\n",
              "</style>\n",
              "<table border=\"1\" class=\"dataframe\">\n",
              "  <thead>\n",
              "    <tr style=\"text-align: right;\">\n",
              "      <th></th>\n",
              "      <th>Freight ID</th>\n",
              "      <th>Origin</th>\n",
              "      <th>Destination</th>\n",
              "      <th>Carrier</th>\n",
              "      <th>Freight Rate (USD)</th>\n",
              "      <th>Departure Time</th>\n",
              "      <th>Transit Time (Hours)</th>\n",
              "      <th>Available Seats</th>\n",
              "      <th>Freight Type</th>\n",
              "    </tr>\n",
              "  </thead>\n",
              "  <tbody>\n",
              "    <tr>\n",
              "      <th>20</th>\n",
              "      <td>F021</td>\n",
              "      <td>Philadelphia</td>\n",
              "      <td>Miami</td>\n",
              "      <td>Quick Logistics</td>\n",
              "      <td>920</td>\n",
              "      <td>07:30</td>\n",
              "      <td>38</td>\n",
              "      <td>5</td>\n",
              "      <td>Refrigerated</td>\n",
              "    </tr>\n",
              "    <tr>\n",
              "      <th>6</th>\n",
              "      <td>F007</td>\n",
              "      <td>Boston</td>\n",
              "      <td>Nashville</td>\n",
              "      <td>GoLogistics</td>\n",
              "      <td>800</td>\n",
              "      <td>11:10</td>\n",
              "      <td>24</td>\n",
              "      <td>9</td>\n",
              "      <td>Standard</td>\n",
              "    </tr>\n",
              "    <tr>\n",
              "      <th>29</th>\n",
              "      <td>F030</td>\n",
              "      <td>New York</td>\n",
              "      <td>San Jose</td>\n",
              "      <td>Quick Logistics</td>\n",
              "      <td>1000</td>\n",
              "      <td>09:00</td>\n",
              "      <td>50</td>\n",
              "      <td>3</td>\n",
              "      <td>Standard</td>\n",
              "    </tr>\n",
              "    <tr>\n",
              "      <th>1</th>\n",
              "      <td>F002</td>\n",
              "      <td>Miami</td>\n",
              "      <td>Chicago</td>\n",
              "      <td>Speedy Ship</td>\n",
              "      <td>700</td>\n",
              "      <td>09:30</td>\n",
              "      <td>36</td>\n",
              "      <td>8</td>\n",
              "      <td>Standard</td>\n",
              "    </tr>\n",
              "    <tr>\n",
              "      <th>10</th>\n",
              "      <td>F011</td>\n",
              "      <td>Dallas</td>\n",
              "      <td>Miami</td>\n",
              "      <td>Speedy Ship</td>\n",
              "      <td>890</td>\n",
              "      <td>07:00</td>\n",
              "      <td>40</td>\n",
              "      <td>6</td>\n",
              "      <td>Refrigerated</td>\n",
              "    </tr>\n",
              "  </tbody>\n",
              "</table>\n",
              "</div>\n",
              "    <div class=\"colab-df-buttons\">\n",
              "\n",
              "  <div class=\"colab-df-container\">\n",
              "    <button class=\"colab-df-convert\" onclick=\"convertToInteractive('df-d2a95104-e4ef-4167-843e-e463716c3708')\"\n",
              "            title=\"Convert this dataframe to an interactive table.\"\n",
              "            style=\"display:none;\">\n",
              "\n",
              "  <svg xmlns=\"http://www.w3.org/2000/svg\" height=\"24px\" viewBox=\"0 -960 960 960\">\n",
              "    <path d=\"M120-120v-720h720v720H120Zm60-500h600v-160H180v160Zm220 220h160v-160H400v160Zm0 220h160v-160H400v160ZM180-400h160v-160H180v160Zm440 0h160v-160H620v160ZM180-180h160v-160H180v160Zm440 0h160v-160H620v160Z\"/>\n",
              "  </svg>\n",
              "    </button>\n",
              "\n",
              "  <style>\n",
              "    .colab-df-container {\n",
              "      display:flex;\n",
              "      gap: 12px;\n",
              "    }\n",
              "\n",
              "    .colab-df-convert {\n",
              "      background-color: #E8F0FE;\n",
              "      border: none;\n",
              "      border-radius: 50%;\n",
              "      cursor: pointer;\n",
              "      display: none;\n",
              "      fill: #1967D2;\n",
              "      height: 32px;\n",
              "      padding: 0 0 0 0;\n",
              "      width: 32px;\n",
              "    }\n",
              "\n",
              "    .colab-df-convert:hover {\n",
              "      background-color: #E2EBFA;\n",
              "      box-shadow: 0px 1px 2px rgba(60, 64, 67, 0.3), 0px 1px 3px 1px rgba(60, 64, 67, 0.15);\n",
              "      fill: #174EA6;\n",
              "    }\n",
              "\n",
              "    .colab-df-buttons div {\n",
              "      margin-bottom: 4px;\n",
              "    }\n",
              "\n",
              "    [theme=dark] .colab-df-convert {\n",
              "      background-color: #3B4455;\n",
              "      fill: #D2E3FC;\n",
              "    }\n",
              "\n",
              "    [theme=dark] .colab-df-convert:hover {\n",
              "      background-color: #434B5C;\n",
              "      box-shadow: 0px 1px 3px 1px rgba(0, 0, 0, 0.15);\n",
              "      filter: drop-shadow(0px 1px 2px rgba(0, 0, 0, 0.3));\n",
              "      fill: #FFFFFF;\n",
              "    }\n",
              "  </style>\n",
              "\n",
              "    <script>\n",
              "      const buttonEl =\n",
              "        document.querySelector('#df-d2a95104-e4ef-4167-843e-e463716c3708 button.colab-df-convert');\n",
              "      buttonEl.style.display =\n",
              "        google.colab.kernel.accessAllowed ? 'block' : 'none';\n",
              "\n",
              "      async function convertToInteractive(key) {\n",
              "        const element = document.querySelector('#df-d2a95104-e4ef-4167-843e-e463716c3708');\n",
              "        const dataTable =\n",
              "          await google.colab.kernel.invokeFunction('convertToInteractive',\n",
              "                                                    [key], {});\n",
              "        if (!dataTable) return;\n",
              "\n",
              "        const docLinkHtml = 'Like what you see? Visit the ' +\n",
              "          '<a target=\"_blank\" href=https://colab.research.google.com/notebooks/data_table.ipynb>data table notebook</a>'\n",
              "          + ' to learn more about interactive tables.';\n",
              "        element.innerHTML = '';\n",
              "        dataTable['output_type'] = 'display_data';\n",
              "        await google.colab.output.renderOutput(dataTable, element);\n",
              "        const docLink = document.createElement('div');\n",
              "        docLink.innerHTML = docLinkHtml;\n",
              "        element.appendChild(docLink);\n",
              "      }\n",
              "    </script>\n",
              "  </div>\n",
              "\n",
              "\n",
              "<div id=\"df-85a3cc23-2a1c-45e3-b7d2-fb1d577f96ae\">\n",
              "  <button class=\"colab-df-quickchart\" onclick=\"quickchart('df-85a3cc23-2a1c-45e3-b7d2-fb1d577f96ae')\"\n",
              "            title=\"Suggest charts\"\n",
              "            style=\"display:none;\">\n",
              "\n",
              "<svg xmlns=\"http://www.w3.org/2000/svg\" height=\"24px\"viewBox=\"0 0 24 24\"\n",
              "     width=\"24px\">\n",
              "    <g>\n",
              "        <path d=\"M19 3H5c-1.1 0-2 .9-2 2v14c0 1.1.9 2 2 2h14c1.1 0 2-.9 2-2V5c0-1.1-.9-2-2-2zM9 17H7v-7h2v7zm4 0h-2V7h2v10zm4 0h-2v-4h2v4z\"/>\n",
              "    </g>\n",
              "</svg>\n",
              "  </button>\n",
              "\n",
              "<style>\n",
              "  .colab-df-quickchart {\n",
              "      --bg-color: #E8F0FE;\n",
              "      --fill-color: #1967D2;\n",
              "      --hover-bg-color: #E2EBFA;\n",
              "      --hover-fill-color: #174EA6;\n",
              "      --disabled-fill-color: #AAA;\n",
              "      --disabled-bg-color: #DDD;\n",
              "  }\n",
              "\n",
              "  [theme=dark] .colab-df-quickchart {\n",
              "      --bg-color: #3B4455;\n",
              "      --fill-color: #D2E3FC;\n",
              "      --hover-bg-color: #434B5C;\n",
              "      --hover-fill-color: #FFFFFF;\n",
              "      --disabled-bg-color: #3B4455;\n",
              "      --disabled-fill-color: #666;\n",
              "  }\n",
              "\n",
              "  .colab-df-quickchart {\n",
              "    background-color: var(--bg-color);\n",
              "    border: none;\n",
              "    border-radius: 50%;\n",
              "    cursor: pointer;\n",
              "    display: none;\n",
              "    fill: var(--fill-color);\n",
              "    height: 32px;\n",
              "    padding: 0;\n",
              "    width: 32px;\n",
              "  }\n",
              "\n",
              "  .colab-df-quickchart:hover {\n",
              "    background-color: var(--hover-bg-color);\n",
              "    box-shadow: 0 1px 2px rgba(60, 64, 67, 0.3), 0 1px 3px 1px rgba(60, 64, 67, 0.15);\n",
              "    fill: var(--button-hover-fill-color);\n",
              "  }\n",
              "\n",
              "  .colab-df-quickchart-complete:disabled,\n",
              "  .colab-df-quickchart-complete:disabled:hover {\n",
              "    background-color: var(--disabled-bg-color);\n",
              "    fill: var(--disabled-fill-color);\n",
              "    box-shadow: none;\n",
              "  }\n",
              "\n",
              "  .colab-df-spinner {\n",
              "    border: 2px solid var(--fill-color);\n",
              "    border-color: transparent;\n",
              "    border-bottom-color: var(--fill-color);\n",
              "    animation:\n",
              "      spin 1s steps(1) infinite;\n",
              "  }\n",
              "\n",
              "  @keyframes spin {\n",
              "    0% {\n",
              "      border-color: transparent;\n",
              "      border-bottom-color: var(--fill-color);\n",
              "      border-left-color: var(--fill-color);\n",
              "    }\n",
              "    20% {\n",
              "      border-color: transparent;\n",
              "      border-left-color: var(--fill-color);\n",
              "      border-top-color: var(--fill-color);\n",
              "    }\n",
              "    30% {\n",
              "      border-color: transparent;\n",
              "      border-left-color: var(--fill-color);\n",
              "      border-top-color: var(--fill-color);\n",
              "      border-right-color: var(--fill-color);\n",
              "    }\n",
              "    40% {\n",
              "      border-color: transparent;\n",
              "      border-right-color: var(--fill-color);\n",
              "      border-top-color: var(--fill-color);\n",
              "    }\n",
              "    60% {\n",
              "      border-color: transparent;\n",
              "      border-right-color: var(--fill-color);\n",
              "    }\n",
              "    80% {\n",
              "      border-color: transparent;\n",
              "      border-right-color: var(--fill-color);\n",
              "      border-bottom-color: var(--fill-color);\n",
              "    }\n",
              "    90% {\n",
              "      border-color: transparent;\n",
              "      border-bottom-color: var(--fill-color);\n",
              "    }\n",
              "  }\n",
              "</style>\n",
              "\n",
              "  <script>\n",
              "    async function quickchart(key) {\n",
              "      const quickchartButtonEl =\n",
              "        document.querySelector('#' + key + ' button');\n",
              "      quickchartButtonEl.disabled = true;  // To prevent multiple clicks.\n",
              "      quickchartButtonEl.classList.add('colab-df-spinner');\n",
              "      try {\n",
              "        const charts = await google.colab.kernel.invokeFunction(\n",
              "            'suggestCharts', [key], {});\n",
              "      } catch (error) {\n",
              "        console.error('Error during call to suggestCharts:', error);\n",
              "      }\n",
              "      quickchartButtonEl.classList.remove('colab-df-spinner');\n",
              "      quickchartButtonEl.classList.add('colab-df-quickchart-complete');\n",
              "    }\n",
              "    (() => {\n",
              "      let quickchartButtonEl =\n",
              "        document.querySelector('#df-85a3cc23-2a1c-45e3-b7d2-fb1d577f96ae button');\n",
              "      quickchartButtonEl.style.display =\n",
              "        google.colab.kernel.accessAllowed ? 'block' : 'none';\n",
              "    })();\n",
              "  </script>\n",
              "</div>\n",
              "\n",
              "    </div>\n",
              "  </div>\n"
            ],
            "application/vnd.google.colaboratory.intrinsic+json": {
              "type": "dataframe",
              "repr_error": "0"
            }
          },
          "metadata": {},
          "execution_count": 4
        }
      ]
    },
    {
      "cell_type": "markdown",
      "source": [
        "## Understanding the Dataset"
      ],
      "metadata": {
        "id": "QusTNnFu92Jx"
      },
      "id": "QusTNnFu92Jx"
    },
    {
      "cell_type": "code",
      "source": [
        "# Get Column Names and Data Types\n",
        "column_info = df.dtypes\n",
        "print(column_info, \"\\n\")"
      ],
      "metadata": {
        "colab": {
          "base_uri": "https://localhost:8080/"
        },
        "id": "xTpEc-cd8-_l",
        "outputId": "c884f421-6722-4f5b-da0e-d2bc52030f35"
      },
      "id": "xTpEc-cd8-_l",
      "execution_count": null,
      "outputs": [
        {
          "output_type": "stream",
          "name": "stdout",
          "text": [
            "Freight ID              object\n",
            "Origin                  object\n",
            "Destination             object\n",
            "Carrier                 object\n",
            "Freight Rate (USD)       int64\n",
            "Departure Time          object\n",
            "Transit Time (Hours)     int64\n",
            "Available Seats          int64\n",
            "Freight Type            object\n",
            "dtype: object \n",
            "\n"
          ]
        }
      ]
    },
    {
      "cell_type": "code",
      "source": [
        "# Identify Categorical and Numerical Features\n",
        "categorical_features = df.select_dtypes(include=['object']).columns\n",
        "numerical_features = df.select_dtypes(include=['int64', 'float64']).columns\n",
        "\n",
        "print(\"Categorical Features:\", categorical_features)\n",
        "print(\"Numerical Features:\", numerical_features)"
      ],
      "metadata": {
        "colab": {
          "base_uri": "https://localhost:8080/"
        },
        "id": "0TYP9kiM-E0W",
        "outputId": "74cdc31a-3160-4654-d631-54c78917a6e8"
      },
      "id": "0TYP9kiM-E0W",
      "execution_count": null,
      "outputs": [
        {
          "output_type": "stream",
          "name": "stdout",
          "text": [
            "Categorical Features: Index(['Freight ID', 'Origin', 'Destination', 'Carrier', 'Departure Time',\n",
            "       'Freight Type'],\n",
            "      dtype='object')\n",
            "Numerical Features: Index(['Freight Rate (USD)', 'Transit Time (Hours)', 'Available Seats'], dtype='object')\n"
          ]
        }
      ]
    },
    {
      "cell_type": "code",
      "execution_count": null,
      "id": "422cc4d7-966b-4ea8-b991-df4a21f8ac64",
      "metadata": {
        "colab": {
          "base_uri": "https://localhost:8080/"
        },
        "id": "422cc4d7-966b-4ea8-b991-df4a21f8ac64",
        "outputId": "a6c4f194-6355-4555-d72e-637bdd714e95"
      },
      "outputs": [
        {
          "output_type": "stream",
          "name": "stdout",
          "text": [
            "Unique Values for Categorical Features:\n",
            " - Freight ID: ['F001', 'F002', 'F003', 'F004', 'F005', 'F006', 'F007', 'F008', 'F009', 'F010', '...']\n",
            " - Origin: ['Los Angeles', 'Miami', 'Seattle', 'San Diego', 'Denver', 'Atlanta', 'Boston', 'Detroit', 'Phoenix', 'Portland', '...']\n",
            " - Destination: ['New York', 'Chicago', 'Dallas', 'Houston', 'Philadelphia', 'Orlando', 'Nashville', 'Kansas City', 'San Francisco', 'Las Vegas', '...']\n",
            " - Carrier: ['Global Freight', 'Speedy Ship', 'Quick Logistics', 'CargoLink', 'FastTrack', 'MoveIT', 'GoLogistics', 'SkyCargo', 'CargoPlus']\n",
            " - Departure Time: ['08:00', '09:30', '10:45', '13:20', '07:15', '06:00', '11:10', '15:30', '14:45', '05:30', '...']\n",
            " - Freight Type: ['Standard', 'Express', 'Refrigerated']\n",
            "\n"
          ]
        }
      ],
      "source": [
        "# Get Unique Values for Categorical Features with Limitation\n",
        "def get_unique_values(col, max_display=10):\n",
        "    uniques = df[col].unique().tolist() # get unique values and turn them into lists\n",
        "    if len(uniques) > max_display: # if there are more than 10 unique values\n",
        "        return uniques[:max_display] + [\"...\"]\n",
        "    return uniques\n",
        "\n",
        "unique_values = {col: get_unique_values(col) for col in categorical_features}\n",
        "\n",
        "print(\"Unique Values for Categorical Features:\")\n",
        "for col, uniques in unique_values.items():\n",
        "    print(f\" - {col}: {uniques}\")\n",
        "print()"
      ]
    },
    {
      "cell_type": "code",
      "source": [
        "# Get Descriptive Statistics for Numerical Features\n",
        "numerical_stats = df[numerical_features].describe()\n",
        "print(\"Descriptive Statistics for Numerical Features:\\n\", numerical_stats, \"\\n\")"
      ],
      "metadata": {
        "colab": {
          "base_uri": "https://localhost:8080/"
        },
        "id": "CbfloRag9Kup",
        "outputId": "5a7a94d7-c2b8-49c5-e810-88c05aeca949"
      },
      "id": "CbfloRag9Kup",
      "execution_count": null,
      "outputs": [
        {
          "output_type": "stream",
          "name": "stdout",
          "text": [
            "Descriptive Statistics for Numerical Features:\n",
            "        Freight Rate (USD)  Transit Time (Hours)  Available Seats\n",
            "count            30.00000             30.000000         30.00000\n",
            "mean            767.00000             28.400000          6.80000\n",
            "std             136.38561             15.388307          2.79655\n",
            "min             480.00000              4.000000          3.00000\n",
            "25%             655.00000             13.000000          5.00000\n",
            "50%             795.00000             31.000000          6.00000\n",
            "75%             875.00000             41.500000          8.00000\n",
            "max            1000.00000             50.000000         15.00000 \n",
            "\n"
          ]
        }
      ]
    },
    {
      "cell_type": "markdown",
      "source": [
        "## Generating the Template"
      ],
      "metadata": {
        "id": "7J1vcAcp-LO_"
      },
      "id": "7J1vcAcp-LO_"
    },
    {
      "cell_type": "code",
      "execution_count": 14,
      "id": "eddf122d-9766-408c-88df-b84ef9a649cf",
      "metadata": {
        "id": "eddf122d-9766-408c-88df-b84ef9a649cf"
      },
      "outputs": [],
      "source": [
        "def generate_template(df,\n",
        "                      column_info,\n",
        "                      categorical_features,\n",
        "                      numerical_features,\n",
        "                      unique_values,\n",
        "                      numerical_stats):\n",
        "\n",
        "    # Construct a summary of the dataframe's structure\n",
        "    column_summary = \"Column Names and Data Types:\\n\"\n",
        "    for col, dtype in column_info.items():\n",
        "        column_summary += f\" - {col}: {dtype}\\n\"\n",
        "\n",
        "    # Unique values for categorical features\n",
        "    unique_values_str = \"Unique Values for Categorical Features:\\n\"\n",
        "    for col, uniques in unique_values.items():\n",
        "        unique_values_str += f\" - {col}: {uniques}\\n\"\n",
        "\n",
        "    # Descriptive statistics for numerical features\n",
        "    numerical_stats_str = \"Descriptive Statistics for Numerical Features:\\n\"\n",
        "    for col in numerical_features:\n",
        "        numerical_stats_str += f\" - {col}:\\n\"\n",
        "        for stat_name, value in numerical_stats[col].items():\n",
        "            numerical_stats_str += f\"   {stat_name}: {value}\\n\"\n",
        "\n",
        "    # Define the system prompt\n",
        "    system_prompt = \"\"\"\n",
        "    You are an intelligent assistant that creates descriptive templates for transforming dataframe rows into coherent paragraphs.\n",
        "    Analyze the provided dataframe structure and generate a template sentence that includes placeholders for each column.\n",
        "    Ensure the template is contextually relevant and maintains grammatical correctness.\"\"\"\n",
        "\n",
        "    # Define the user prompt\n",
        "    user_prompt = f\"\"\"\n",
        "    Analyze the following dataframe structure and create a descriptive template with placeholders for each column.\n",
        "\n",
        "    <column_summary>\n",
        "    {column_summary}\n",
        "    </column_summary>\n",
        "\n",
        "    <unique_values>\n",
        "    {unique_values_str}\n",
        "    </unique_values>\n",
        "\n",
        "    <numerical_stats>\n",
        "    {numerical_stats_str}\n",
        "    </numerical_stats>\n",
        "\n",
        "    Use the exact column names from the column_summary in generating the variable names in the template,\n",
        "    as they will be populated with the actual values in the dataset.\n",
        "\n",
        "    Example Template about a Spotify dataset:\n",
        "    \"{{artist}} gained {{streams}} streams in the song '{{song}}' that was a hit in {{date}}.\"\n",
        "\n",
        "    Output only the template without any explanation or introduction.\n",
        "    The template's variables will be dynamically replaced so make sure they're formatted properly.\"\"\"\n",
        "\n",
        "    retries = 3\n",
        "    for attempt in range(retries):\n",
        "        try:\n",
        "            response = openai.ChatCompletion.create(\n",
        "                model=\"gpt-4o-mini\",\n",
        "                temperature=0.3,\n",
        "                max_tokens=1024,\n",
        "                messages=[\n",
        "                    {\"role\": \"system\", \"content\": system_prompt},\n",
        "                    {\"role\": \"user\", \"content\": user_prompt}\n",
        "                ]\n",
        "            )\n",
        "            template = response['choices'][0]['message']['content'].strip()\n",
        "            return template\n",
        "        except Exception as e:\n",
        "            print(f\"Error generating template (Attempt {attempt + 1}/{retries}): {e}\")\n",
        "            time.sleep(2)  # Wait before retrying\n",
        "\n",
        "    return None"
      ]
    },
    {
      "cell_type": "code",
      "execution_count": 15,
      "id": "f8a0fd91-80de-4e08-8f86-44325a8accd3",
      "metadata": {
        "id": "f8a0fd91-80de-4e08-8f86-44325a8accd3",
        "colab": {
          "base_uri": "https://localhost:8080/"
        },
        "outputId": "67ebed2a-f38a-4df4-f1c4-fc39a9a95434"
      },
      "outputs": [
        {
          "output_type": "stream",
          "name": "stdout",
          "text": [
            "\"The freight shipment with ID '{Freight ID}' is scheduled to depart from '{Origin}' to '{Destination}' via '{Carrier}' at '{Departure Time}'. The freight rate is set at ${Freight Rate (USD)} and it is expected to take approximately {Transit Time (Hours)} hours. Currently, there are {Available Seats} available for this '{Freight Type}' shipment.\"\n"
          ]
        }
      ],
      "source": [
        "# Generate the template\n",
        "template = generate_template(df,\n",
        "                             column_info,\n",
        "                             categorical_features,\n",
        "                             numerical_features,\n",
        "                             unique_values,\n",
        "                             numerical_stats)\n",
        "print(template)"
      ]
    },
    {
      "cell_type": "markdown",
      "source": [
        "## Populating the Template with Actual Values"
      ],
      "metadata": {
        "id": "VWPq3mcY-r40"
      },
      "id": "VWPq3mcY-r40"
    },
    {
      "cell_type": "code",
      "execution_count": 25,
      "id": "258e73ea-3500-49bb-9820-20637375dd55",
      "metadata": {
        "id": "258e73ea-3500-49bb-9820-20637375dd55"
      },
      "outputs": [],
      "source": [
        "def populate_template(template, row):\n",
        "\n",
        "    # Convert row to dictionary and replace NaN with 'N/A'\n",
        "    row_dict = row.to_dict()\n",
        "    for key, value in row_dict.items():\n",
        "        if pd.isna(value):\n",
        "            row_dict[key] = 'N/A'\n",
        "\n",
        "    # Generate the populated template per row\n",
        "    paragraph = template.format(**row_dict)\n",
        "\n",
        "    return paragraph"
      ]
    },
    {
      "cell_type": "code",
      "source": [
        "\n",
        "# Apply the populate_template function to each row in the dataframe\n",
        "df['paragraph'] = df.apply(lambda row: populate_template(template, row), axis=1)"
      ],
      "metadata": {
        "id": "rIhyXGSD_Ke4"
      },
      "id": "rIhyXGSD_Ke4",
      "execution_count": 26,
      "outputs": []
    },
    {
      "cell_type": "code",
      "source": [
        "df['paragraph'][0]"
      ],
      "metadata": {
        "colab": {
          "base_uri": "https://localhost:8080/",
          "height": 53
        },
        "id": "23G8xbiG0C-6",
        "outputId": "ebee4c57-4fdf-4833-8d54-680bc57d1dd1"
      },
      "id": "23G8xbiG0C-6",
      "execution_count": 27,
      "outputs": [
        {
          "output_type": "execute_result",
          "data": {
            "text/plain": [
              "'\"The freight shipment with ID \\'F001\\' is scheduled to depart from \\'Los Angeles\\' to \\'New York\\' via \\'Global Freight\\' at \\'08:00\\'. The freight rate is set at $950 and it is expected to take approximately 48 hours. Currently, there are 5 available for this \\'Standard\\' shipment.\"'"
            ],
            "application/vnd.google.colaboratory.intrinsic+json": {
              "type": "string"
            }
          },
          "metadata": {},
          "execution_count": 27
        }
      ]
    },
    {
      "cell_type": "markdown",
      "source": [
        "## Saving the Populated Templates (Natural Language Texts)"
      ],
      "metadata": {
        "id": "bDO2V_0P_So1"
      },
      "id": "bDO2V_0P_So1"
    },
    {
      "cell_type": "code",
      "execution_count": 19,
      "id": "0b26a4d3-b3d9-448b-ae5e-f2c8960718cd",
      "metadata": {
        "id": "0b26a4d3-b3d9-448b-ae5e-f2c8960718cd"
      },
      "outputs": [],
      "source": [
        "def save_content_to_txt(paragraphs, txt_filename):\n",
        "    try:\n",
        "        with open(txt_filename, 'w', encoding='utf-8') as file:\n",
        "\n",
        "            for para in paragraphs:\n",
        "                file.write(para + '\\n\\n')  # Double newline for separation\n",
        "\n",
        "        print(f\"All content has been saved as '{txt_filename}'.\\n\")\n",
        "    except Exception as e:\n",
        "        print(f\"Error saving content to text file: {e}\")"
      ]
    },
    {
      "cell_type": "code",
      "execution_count": 20,
      "id": "cb501277-4548-4f79-8b1e-fedafcff856f",
      "metadata": {
        "id": "cb501277-4548-4f79-8b1e-fedafcff856f"
      },
      "outputs": [],
      "source": [
        "def save_content_to_pdf(paragraphs, pdf_filename):\n",
        "    try:\n",
        "        pdf = FPDF()\n",
        "        pdf.add_page()\n",
        "        pdf.set_auto_page_break(auto=True, margin=15)\n",
        "        pdf.set_font(\"Arial\", size=12)\n",
        "\n",
        "        # Add each paragraph\n",
        "        for para in paragraphs:\n",
        "            pdf.multi_cell(0, 10, para)\n",
        "            pdf.ln()  # Add a line break between paragraphs\n",
        "\n",
        "        pdf.output(pdf_filename)\n",
        "        print(f\"All content has been saved as '{pdf_filename}'.\\n\")\n",
        "    except Exception as e:\n",
        "        print(f\"Error saving content to PDF: {e}\")\n"
      ]
    },
    {
      "cell_type": "code",
      "execution_count": 21,
      "id": "9ee0ce02-95de-4634-bdb3-63e285b9031a",
      "metadata": {
        "id": "9ee0ce02-95de-4634-bdb3-63e285b9031a",
        "colab": {
          "base_uri": "https://localhost:8080/"
        },
        "outputId": "ee1d377f-ca4b-4c39-d7f6-d9e8b4817f84"
      },
      "outputs": [
        {
          "output_type": "stream",
          "name": "stdout",
          "text": [
            "All content has been saved as 'nlg.txt'.\n",
            "\n"
          ]
        }
      ],
      "source": [
        "# Save the paragraphs to both text and PDF files\n",
        "save_content_to_txt(df['paragraph'].to_list(),\n",
        "                    txt_filename='nlg.txt')\n",
        "\n",
        "#save_content_to_pdf(df['paragraph'].to_list(),\n",
        "#                    pdf_filename='nlg.pdf')\n",
        "\n"
      ]
    }
  ],
  "metadata": {
    "kernelspec": {
      "display_name": "attic-proposals",
      "language": "python",
      "name": "attic-proposals"
    },
    "language_info": {
      "codemirror_mode": {
        "name": "ipython",
        "version": 3
      },
      "file_extension": ".py",
      "mimetype": "text/x-python",
      "name": "python",
      "nbconvert_exporter": "python",
      "pygments_lexer": "ipython3",
      "version": "3.11.0"
    },
    "colab": {
      "provenance": []
    }
  },
  "nbformat": 4,
  "nbformat_minor": 5
}